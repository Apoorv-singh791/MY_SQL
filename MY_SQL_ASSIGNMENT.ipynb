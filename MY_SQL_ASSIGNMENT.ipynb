{
 "cells": [
  {
   "cell_type": "markdown",
   "id": "189a284c-27c4-465b-b5a2-08d8f3b05b52",
   "metadata": {},
   "source": [
    "Q1. What is a database? Differentiate between SQL and NoSQL databases."
   ]
  },
  {
   "cell_type": "markdown",
   "id": "918145e9-89d7-4fbc-bc04-63b51a066410",
   "metadata": {},
   "source": [
    "A1. A database is an organized collection of structured information, or data, typically stored electronically in a computer system. A database is usually controlled by a database management system (DBMS)\n",
    "\n",
    "SQL and NoSQL are two types of databases that differ in their structure, scalability, language and data types . SQL databases are relational, table-based and use structured query language (SQL) . NoSQL databases are non-relational, document-oriented, key-value pairs, or graph structures and have dynamic schemas for unstructured data ."
   ]
  },
  {
   "cell_type": "markdown",
   "id": "abe8a56d-5785-4110-b7ea-e724d4b1c991",
   "metadata": {},
   "source": [
    "Q2. What is DDL? Explain why CREATE, DROP, ALTER, and TRUNCATE are used with an example."
   ]
  },
  {
   "cell_type": "markdown",
   "id": "c5128333-340c-4237-9e6a-0d30418703c5",
   "metadata": {},
   "source": [
    "A2. A data definition language (DDL) is a computer language used to create and modify the structure of database objects in a database. These database objects include views, schemas, tables, indexes, etc.\n",
    "\n",
    "->CREATE: This command is used to create a new database object, such as a table. For example, CREATE TABLE students (c1 INT, c2 VARCHAR(50), c3 INT); will create a table named students with three columns: c1 , c2 , c3 .                                                                                 \n",
    "->DROP: This command is used to delete an existing database object, such as a table. For example, DROP TABLE students; will delete the table named students and all its data .                                                                                                                           \n",
    "->ALTER: This command is used to modify the structure of an existing database object, such as adding or deleting a column in a table. For example, ALTER TABLE students ADD c4 VARCHAR(50); will add a new column named c4 to the table students .                                                                                                                                                                                                             \n",
    "->TRUNCATE: This command is used to remove all the data from an existing table, but not the table itself. For example, TRUNCATE TABLE students; will delete all the rows from the table students, but the table structure will remain intact ."
   ]
  },
  {
   "cell_type": "markdown",
   "id": "40518458-feb2-45bc-bb75-f353e574c696",
   "metadata": {},
   "source": [
    "Q3. What is DML? Explain INSERT, UPDATE, and DELETE with an example."
   ]
  },
  {
   "cell_type": "markdown",
   "id": "de8a4391-4c1c-4362-a138-657cc9397d24",
   "metadata": {},
   "source": [
    "A3. DML stands for Data Manipulation Language, which is a subset of SQL statements that are used to view and modify data in a database. The main DML commands are:                                                                                                                                         \n",
    "                                                                                                                                                    \n",
    "->INSERT: Used to insert new data records or rows into a table. For example, INSERT INTO students (name, age, grade) VALUES ('Alice', 12, 'A'); inserts a new record into the students table with the given values.                                                                                   \n",
    "->UPDATE: Used to set the value of a field or column in an existing record or row. For example, UPDATE students SET grade = 'B' WHERE name = 'Alice'; updates the grade of Alice to B in the students table.                                                                                                 \n",
    "->DELETE: Used to remove one or more rows from a table. For example, DELETE FROM students WHERE grade = 'F'; deletes all the records from the students table where the grade is F."
   ]
  },
  {
   "cell_type": "markdown",
   "id": "cb149d06-88c5-45ec-9375-85354c411b65",
   "metadata": {},
   "source": [
    "Q4. What is DQL? Explain SELECT with an example."
   ]
  },
  {
   "cell_type": "markdown",
   "id": "a2437020-7d9f-4058-a8d4-357b9519fc36",
   "metadata": {},
   "source": [
    "A4. DQL stands for Data Query Language, which is a subset of SQL statements that are used to retrieve data from a database. The main DQL command is:\n",
    "\n",
    "SELECT: Used to query or fetch selected fields or columns from one or more tables in the database. For example, SELECT name, age FROM students; retrieves the name and age of all the records in the students table."
   ]
  },
  {
   "cell_type": "markdown",
   "id": "82f43cc6-543c-4175-b463-a1d96a8cd32c",
   "metadata": {},
   "source": [
    "Q5. Explain Primary Key and Foreign Key."
   ]
  },
  {
   "cell_type": "markdown",
   "id": "e59a657d-f0a2-48e2-8983-8898afbeb04a",
   "metadata": {},
   "source": [
    "A5. Primary Key and Foreign Key are two types of constraints that are used to enforce data integrity and create relationships between tables in a relational database. The main differences between them are:                                                                                           \n",
    "\n",
    "Primary Key: A primary key is a column or a combination of columns that uniquely identifies each record or row in a table. A primary key ensures that there are no duplicate values in the column or columns and that every record has a value in the column or columns. A table can have only one primary key, which is usually defined at the time of creating the table. For example, CREATE TABLE students (id INT PRIMARY KEY, name VARCHAR(50), age INT); creates a table called students with a primary key on the id column.                                                                                   \n",
    "Foreign Key: A foreign key is a column or a combination of columns that refers to the primary key of another table. A foreign key creates a link between two tables and ensures that the values in the referencing column or columns match the values in the referenced column or columns. A table can have multiple foreign keys, which are usually defined after creating the table using the ALTER TABLE statement. For example, ALTER TABLE orders ADD FOREIGN KEY (customer_id) REFERENCES customers (id); adds a foreign key on the customer_id column of the orders table that references the id column of the customers table."
   ]
  },
  {
   "cell_type": "markdown",
   "id": "3c981b7c-ae55-49a7-8396-3cc2ae374138",
   "metadata": {},
   "source": [
    "Q6. Write a python code to connect MySQL to python. Explain the cursor() and execute() method."
   ]
  },
  {
   "cell_type": "code",
   "execution_count": null,
   "id": "57fb1a95-d972-4e74-961e-51bd342a9c19",
   "metadata": {},
   "outputs": [],
   "source": [
    "import mysql.connector\n",
    "a=mysql.connector.connect(\n",
    "    host=\"localhost\",\n",
    "    user=\"abc\",\n",
    "    password=\"password\"\n",
    ")\n",
    "cursor=a.cursor()\n",
    "cursor.execute(\"insert query which you want to perform \")\n",
    "a.close()"
   ]
  },
  {
   "cell_type": "markdown",
   "id": "78aee22a-6a1f-466d-9a06-050c0d771767",
   "metadata": {},
   "source": [
    "cursor() : A method of the connection object that creates and returns a cursor object. A cursor object is used to execute SQL queries or commands in the context of the database session wrapped by the connection.                                                                                                                   "
   ]
  },
  {
   "cell_type": "markdown",
   "id": "f8584ee3-63fb-4103-9c0d-8907e4f510c2",
   "metadata": {},
   "source": [
    "execute() : A method of the cursor object that executes a given database operation (query or command) using the cursor object. "
   ]
  },
  {
   "cell_type": "markdown",
   "id": "5db79ec8-f1cd-4f0d-912d-a260088cd357",
   "metadata": {},
   "source": [
    "Q7. Give the order of execution of SQL clauses in an SQL query."
   ]
  },
  {
   "cell_type": "markdown",
   "id": "73e9a64e-f960-4170-b9c4-5a16af54bdbb",
   "metadata": {},
   "source": [
    "The order of execution of SQL clauses is as follows:"
   ]
  },
  {
   "cell_type": "markdown",
   "id": "555f5f5d-5c71-458e-ae0d-f7df4ac7ef49",
   "metadata": {},
   "source": [
    "1-> FROM"
   ]
  },
  {
   "cell_type": "markdown",
   "id": "2bde1cd0-4f58-4bb8-9532-ad605023cc18",
   "metadata": {},
   "source": [
    "2-> ON"
   ]
  },
  {
   "cell_type": "markdown",
   "id": "9fe631b9-9d35-47ff-8bce-4db981558bd5",
   "metadata": {},
   "source": [
    "3-> WHERE"
   ]
  },
  {
   "cell_type": "markdown",
   "id": "b5643605-4a32-40d0-8da4-db522abc28a1",
   "metadata": {},
   "source": [
    "4-> HAVING"
   ]
  },
  {
   "cell_type": "markdown",
   "id": "e897ef86-947c-48f4-8fc5-ac03d6a63e3c",
   "metadata": {},
   "source": [
    "5-> GROUP BY"
   ]
  },
  {
   "cell_type": "markdown",
   "id": "27c38c2d-1bb2-42be-8fff-ad60fe64da0b",
   "metadata": {},
   "source": [
    "6->SELECT"
   ]
  },
  {
   "cell_type": "markdown",
   "id": "5fa556c5-3cda-4e9f-83bd-b1d01f025bd4",
   "metadata": {},
   "source": [
    "7-> ORDER BY"
   ]
  },
  {
   "cell_type": "markdown",
   "id": "6989b8e0-65dd-4d33-97dd-3134ffcad314",
   "metadata": {},
   "source": [
    "8-> TOP"
   ]
  },
  {
   "cell_type": "code",
   "execution_count": null,
   "id": "b2712ff5-7828-40a4-8088-8aabb8544483",
   "metadata": {},
   "outputs": [],
   "source": []
  }
 ],
 "metadata": {
  "kernelspec": {
   "display_name": "Python 3 (ipykernel)",
   "language": "python",
   "name": "python3"
  },
  "language_info": {
   "codemirror_mode": {
    "name": "ipython",
    "version": 3
   },
   "file_extension": ".py",
   "mimetype": "text/x-python",
   "name": "python",
   "nbconvert_exporter": "python",
   "pygments_lexer": "ipython3",
   "version": "3.10.8"
  }
 },
 "nbformat": 4,
 "nbformat_minor": 5
}
